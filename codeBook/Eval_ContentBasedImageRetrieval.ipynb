{
  "nbformat": 4,
  "nbformat_minor": 0,
  "metadata": {
    "colab": {
      "name": "Eval.ContentBasedImageRetrieval.ipynb",
      "provenance": [],
      "collapsed_sections": [],
      "toc_visible": true,
      "include_colab_link": true
    },
    "kernelspec": {
      "display_name": "Python 3",
      "name": "python3"
    }
  },
  "cells": [
    {
      "cell_type": "markdown",
      "metadata": {
        "id": "view-in-github",
        "colab_type": "text"
      },
      "source": [
        "<a href=\"https://colab.research.google.com/github/MaiNga-uit/CS2224.CH1501/blob/main/codeBook/Eval_ContentBasedImageRetrieval.ipynb\" target=\"_parent\"><img src=\"https://colab.research.google.com/assets/colab-badge.svg\" alt=\"Open In Colab\"/></a>"
      ]
    },
    {
      "cell_type": "markdown",
      "metadata": {
        "id": "h8bXhNJVx2gL"
      },
      "source": [
        "# Evaluation\r\n",
        "* This step uses the groundtruth from Oxford to calculate mean average precision of relevant queries\r\n",
        "* The precision is calculated at top 1, 4, 10 and 100 returned images. \r\n",
        "\r\n",
        "* Note: The model for 5k images were extracted before and upload to drive. Please refer to the following codebook for more information \r\n",
        "https://drive.google.com/file/d/1gl66ZCZ9zVT615hrMcoV3eaE5mweQR2i/view?usp=sharing"
      ]
    },
    {
      "cell_type": "markdown",
      "metadata": {
        "id": "OZdCXgYgyXqf"
      },
      "source": [
        "## Declare and create some folders"
      ]
    },
    {
      "cell_type": "code",
      "metadata": {
        "id": "on-kMrply_Bs"
      },
      "source": [
        "import os\r\n",
        "\r\n",
        "def MakeDirWithChecked(path):\r\n",
        "    if not os.path.isdir(path):\r\n",
        "        os.mkdir(path)\r\n",
        "\r\n",
        "evalDir = \"/content/eval\"\r\n",
        "evalGroundTruth = \"/content/eval/ground_truth\"\r\n",
        "evalQueryImg = \"/content/eval/query_img\"\r\n",
        "evalRankList = \"/content/eval/rank_list\"\r\n",
        "\r\n",
        "datasetDir = \"/content/dataset/\"\r\n",
        "databaseDir = \"/content/database\"\r\n",
        "\r\n",
        "MakeDirWithChecked(evalDir)\r\n",
        "MakeDirWithChecked(evalGroundTruth)\r\n",
        "MakeDirWithChecked(evalQueryImg)\r\n",
        "MakeDirWithChecked(evalRankList)"
      ],
      "execution_count": 7,
      "outputs": []
    },
    {
      "cell_type": "code",
      "metadata": {
        "id": "Aslvn8gm2aTE"
      },
      "source": [
        "import sys\r\n",
        "\r\n",
        "from typing import List\r\n",
        "\r\n",
        "def load_list(fname: str):\r\n",
        "    \"\"\"Plain text list loader. Reads from file separated by newlines, and returns a\r\n",
        "    list of the file with whitespaces stripped.\r\n",
        "    Args:\r\n",
        "        fname (str): Name of file to be read.\r\n",
        "    Returns:\r\n",
        "        List[str]: A stripped list of strings, using newlines as a seperator from file.\r\n",
        "    \"\"\"\r\n",
        "\r\n",
        "    return [e.strip() for e in open(fname, 'r').readlines()]"
      ],
      "execution_count": 15,
      "outputs": []
    },
    {
      "cell_type": "markdown",
      "metadata": {
        "id": "Qe0su-5Kyah7"
      },
      "source": [
        "## Prepare query image\r\n",
        "Prepare query image relevant to 55 queries in groundtruth and write to evalQueryImg = \"/content/eval/query_img\""
      ]
    },
    {
      "cell_type": "code",
      "metadata": {
        "id": "ligB2POeLQ44"
      },
      "source": [
        "# Don't want to crop query img?\r\n",
        "# Just download prepared query img\r\n",
        "# Enabled these below line and run then move directly to run classifying step\r\n",
        "\r\n",
        "#import gdown\r\n",
        "\r\n",
        "#modelUrl = 'https://drive.google.com/uc?id=1hUff66nwWyhBf1UG-UrcngYHPSXgcGUs' #URL cố định dùng để download.\r\n",
        "#output = '/content/eval/query_img/query_img.zip' \r\n",
        "#gdown.download(modelUrl, output, quiet=False)\r\n",
        "\r\n",
        "#!unzip -o '/content/eval/query_img/query_img.zip' -d '/content/eval'\r\n",
        "#!rm -r '/content/eval/query_img/query_img.zip'"
      ],
      "execution_count": null,
      "outputs": []
    },
    {
      "cell_type": "code",
      "metadata": {
        "id": "YOmIxemX0l1V"
      },
      "source": [
        "import os, sys, tarfile\r\n",
        "\r\n",
        "def extract(tar_url, extract_path='.'):\r\n",
        "    # print tar_url\r\n",
        "    tar = tarfile.open(tar_url, 'r')\r\n",
        "    for item in tar:\r\n",
        "        tar.extract(item, extract_path)\r\n",
        "        if item.name.find(\".tgz\") != -1 or item.name.find(\".tar\") != -1:\r\n",
        "            extract(item.name, \"./\" + item.name[:item.name.rfind('/')])\r\n",
        "try:\r\n",
        "\r\n",
        "    extract(sys.argv[1] + '.tgz')\r\n",
        "    # print 'Done.'\r\n",
        "except:\r\n",
        "    name = os.path.basename(sys.argv[0])\r\n",
        "    # print name[:name.rfind('.')], '<filename>'"
      ],
      "execution_count": 11,
      "outputs": []
    },
    {
      "cell_type": "code",
      "metadata": {
        "id": "7KktoAB90rAW"
      },
      "source": [
        "#TODO: upload groundtruth to evalGroundTruth = \"/content/eval/ground_truth\"\r\n",
        "import gdown\r\n",
        "datasetUrl = 'https://www.robots.ox.ac.uk/~vgg/data/oxbuildings/gt_files_170407.tgz'\r\n",
        "downloadFolder = '/content/eval/ground_truth/groundtruth.tgz' \r\n",
        "gdown.download(datasetUrl, downloadFolder, quiet=False)\r\n",
        "\r\n",
        "extract('/content/eval/ground_truth/groundtruth.tgz', evalGroundTruth)\r\n",
        "!rm '/content/eval/ground_truth/groundtruth.tgz'"
      ],
      "execution_count": 12,
      "outputs": []
    },
    {
      "cell_type": "code",
      "metadata": {
        "id": "oip3Io2IzL7b"
      },
      "source": [
        "#TODO: dataset already upload\r\n",
        "import gdown\r\n",
        "!mkdir '/content/dataset/'\r\n",
        "datasetUrl = 'https://www.robots.ox.ac.uk/~vgg/data/oxbuildings/oxbuild_images.tgz'\r\n",
        "downloadFolder = '/content/dataset/oxbuild_images.tgz' \r\n",
        "gdown.download(datasetUrl, downloadFolder, quiet=False)\r\n",
        "\r\n",
        "extract('/content/dataset/oxbuild_images.tgz', '/content/dataset')\r\n",
        "!rm '/content/dataset/oxbuild_images.tgz'"
      ],
      "execution_count": null,
      "outputs": []
    },
    {
      "cell_type": "code",
      "metadata": {
        "id": "9FpLueRVzOVl"
      },
      "source": [
        "import numpy as np\r\n",
        "import cv2\r\n",
        "from google.colab.patches import cv2_imshow\r\n",
        "\r\n",
        "#query_file_name = \"radcliffe_camera_1_query.txt\"\r\n",
        "def cropImage(query_file_name: str, groundtruthFolderDir: str, imgFolderDir: str, outputFolderDir: str):\r\n",
        "  print(query_file_name)\r\n",
        "  query_key = query_file_name.replace(\"_query.txt\", \"\")\r\n",
        "  query_detail = load_list(groundtruthFolderDir + \"/\" + query_file_name)\r\n",
        "  list = query_detail[0].split()\r\n",
        "  imgName = list[0].replace(\"oxc1_\", \"\")\r\n",
        "  img = cv2.imread(imgFolderDir + \"/%s.jpg\" % imgName);\r\n",
        "  x1 = int(float(list[1]));\r\n",
        "  y1 = int(float(list[2]));\r\n",
        "  x2 = int(float(list[3]));\r\n",
        "  y2 = int(float(list[4]));\r\n",
        "  crop_img = img[y1:y2, x1:x2]\r\n",
        "\r\n",
        "  cv2.imwrite(outputFolderDir +\"/%s.jpg\" % query_key, crop_img)"
      ],
      "execution_count": 17,
      "outputs": []
    },
    {
      "cell_type": "code",
      "metadata": {
        "id": "n1ZJH-eYzT34"
      },
      "source": [
        "import numpy as np\r\n",
        "import cv2\r\n",
        "import os\r\n",
        "import re\r\n",
        "from google.colab.patches import cv2_imshow\r\n",
        "\r\n",
        "folder = evalGroundTruth\r\n",
        "names = []\r\n",
        "for basename in os.listdir(folder):\r\n",
        "  name = os.path.splitext(basename)[0];\r\n",
        "  matches = re.findall(\".+_query\", name)\r\n",
        "  if len(matches) > 0:\r\n",
        "    names.append(name)\r\n",
        "\r\n",
        "for name in names:\r\n",
        "  fileName = name + \".txt\"\r\n",
        "  print(fileName)\r\n",
        "  cropImage(fileName, folder, datasetDir, evalQueryImg)"
      ],
      "execution_count": null,
      "outputs": []
    },
    {
      "cell_type": "markdown",
      "metadata": {
        "id": "PT6hjRDDyhm0"
      },
      "source": [
        "## Run classifying query by query\r\n",
        "Browse through query_img folder and run classifying query by query. Output is relevant rank list and will be written in eval/rank_list as relevent query label"
      ]
    },
    {
      "cell_type": "code",
      "metadata": {
        "id": "DQvNwYt7HWra"
      },
      "source": [
        "# Download extracted features relevant to 5k image from Oxford\r\n",
        "# https://drive.google.com/file/d/1gl66ZCZ9zVT615hrMcoV3eaE5mweQR2i/view?usp=sharing"
      ],
      "execution_count": null,
      "outputs": []
    },
    {
      "cell_type": "code",
      "metadata": {
        "id": "6Ncay3xizY-S"
      },
      "source": [
        "import os\r\n",
        "\r\n",
        "def writeToFile(dir, name, text):\r\n",
        "  with open(dir + \"/%s.txt\" % name, 'w') as f:\r\n",
        "    f.write(text)\r\n",
        "\r\n",
        "def append_multiple_lines(file_name, lines_to_append):\r\n",
        "    # Open the file in append & read mode ('a+')\r\n",
        "    with open(file_name, \"a+\") as file_object:\r\n",
        "        appendEOL = False\r\n",
        "        # Move read cursor to the start of file.\r\n",
        "        file_object.seek(0)\r\n",
        "        # Check if file is not empty\r\n",
        "        data = file_object.read(100)\r\n",
        "        if len(data) > 0:\r\n",
        "            appendEOL = True\r\n",
        "        # Iterate over each string in the list\r\n",
        "        for line in lines_to_append:\r\n",
        "            # If file is not empty then append '\\n' before first line for\r\n",
        "            # other lines always append '\\n' before appending line\r\n",
        "            if appendEOL == True:\r\n",
        "                file_object.write(\"\\n\")\r\n",
        "            else:\r\n",
        "                appendEOL = True\r\n",
        "            # Append element at the end of file\r\n",
        "            file_object.write(line)\r\n",
        "\r\n",
        "def writeRankResultToFile(dir, name, featureVectors):\r\n",
        "  text = []\r\n",
        "  for vector in featureVectors:\r\n",
        "    nameWithExt = os.path.basename(vector[0])\r\n",
        "    baseName = os.path.splitext(nameWithExt)[0]\r\n",
        "    text.append(baseName)\r\n",
        "  \r\n",
        "  filePath = dir + \"/%s.txt\" % name\r\n",
        "  append_multiple_lines(filePath, text)"
      ],
      "execution_count": 62,
      "outputs": []
    },
    {
      "cell_type": "code",
      "metadata": {
        "colab": {
          "base_uri": "https://localhost:8080/"
        },
        "id": "CWHXx2KjzZn6",
        "outputId": "03070b29-245c-4d06-b026-8d734dab6cef"
      },
      "source": [
        "folder = evalQueryImg\r\n",
        "database_path = databaseDir\r\n",
        "names = []\r\n",
        "for query_img_path in os.listdir(folder):\r\n",
        "  print(query_img_path)\r\n",
        "  name = os.path.splitext(query_img_path)[0];\r\n",
        "\r\n",
        "  query_img_categories = IU.PredictImageCategory(folder + \"/\" + query_img_path)\r\n",
        "  img_features_vector = IU.CreateImageFeaturesVector(folder + \"/\" + query_img_path)\r\n",
        "  print(query_img_categories)\r\n",
        "  print(img_features_vector)\r\n",
        "  # saving features and loading them when a query is need is slightly faster and less memory intensive than extracting the features dueing runtime\r\n",
        "  feature_vectors = []\r\n",
        "  for category in query_img_categories:\r\n",
        "      category_path = os.path.join(database_path, category + '.npz')\r\n",
        "      \r\n",
        "      if not os.path.isfile(category_path):\r\n",
        "          continue\r\n",
        "\r\n",
        "      loaded_feature_vectors = np.load(category_path, allow_pickle=True)\r\n",
        "      loaded_feature_vectors = list(loaded_feature_vectors['arr_0'])\r\n",
        "      # only add every image once (using the image name as a reference since that shouldn't be duplicated)\r\n",
        "      for loaded_feature_vector in loaded_feature_vectors:\r\n",
        "          if IU.Path2Name(loaded_feature_vector[0]) in (IU.Path2Name(feature_vector[0]) for feature_vector in feature_vectors):\r\n",
        "              continue\r\n",
        "        \r\n",
        "          feature_vectors.append(loaded_feature_vector)\r\n",
        "\r\n",
        "  feature_vectors.sort(key=lambda feature_vector: distance.cosine(feature_vector[1], img_features_vector))\r\n",
        "\r\n",
        "  writeRankResultToFile(evalRankList, name, feature_vectors)"
      ],
      "execution_count": 63,
      "outputs": [
        {
          "output_type": "stream",
          "text": [
            "keble_5.jpg\n",
            "['church', 'palace', 'vault', 'bell_cote', 'dome']\n",
            "[0.0195402  0.00923897 0.03553263 ... 0.         0.00674222 0.0054757 ]\n",
            "balliol_4.jpg\n",
            "['palace', 'castle', 'monastery', 'church', 'bell_cote']\n",
            "[0.04792301 0.02013221 0.02333848 ... 0.00163878 0.00961255 0.00597115]\n",
            "balliol_3.jpg\n",
            "['palace', 'monastery', 'bell_cote', 'church', 'castle']\n",
            "[0.03926379 0.02109729 0.03700565 ... 0.00330845 0.00695939 0.0057599 ]\n",
            "ashmolean_5.jpg\n",
            "['palace', 'library', 'triumphal_arch', 'pedestal', 'bell_cote']\n",
            "[0.02441563 0.02399466 0.01679284 ... 0.0048408  0.00303912 0.00324498]\n",
            "bodleian_5.jpg\n",
            "['palace', 'vault', 'library', 'window_screen', 'dome']\n",
            "[0.0493799  0.00490612 0.011393   ... 0.00667128 0.03389163 0.        ]\n",
            "bodleian_2.jpg\n",
            "['vault', 'palace', 'dome', 'church', 'library']\n",
            "[0.0632548  0.00230986 0.03688461 ... 0.01219004 0.00772007 0.00045152]\n",
            "magdalen_1.jpg\n",
            "['church', 'bell_cote', 'monastery', 'vault', 'palace']\n",
            "[0.0547462  0.01187069 0.05281353 ... 0.00029419 0.00044773 0.01134346]\n",
            "radcliffe_camera_4.jpg\n",
            "['dome', 'church', 'palace', 'crash_helmet', 'monastery']\n",
            "[0.00316027 0.02271611 0.02078878 ... 0.00098806 0.00517174 0.00088138]\n",
            "hertford_3.jpg\n",
            "['palace', 'triumphal_arch', 'gondola', 'vault', 'library']\n",
            "[0.05781132 0.004952   0.00596057 ... 0.00338215 0.0098605  0.        ]\n",
            "pitt_rivers_3.jpg\n",
            "['monastery', 'palace', 'bell_cote', 'church', 'castle']\n",
            "[0.06282806 0.04470852 0.04689094 ... 0.00233958 0.00204631 0.00814374]\n",
            "ashmolean_4.jpg\n",
            "['triumphal_arch', 'palace', 'bell_cote', 'monastery', 'pedestal']\n",
            "[0.05681357 0.02367259 0.0197814  ... 0.01049047 0.00349325 0.0206949 ]\n",
            "all_souls_3.jpg\n",
            "['palace', 'bell_cote', 'monastery', 'analog_clock', 'triumphal_arch']\n",
            "[0.02329114 0.02195647 0.03654945 ... 0.00098623 0.00155963 0.00375779]\n",
            "hertford_5.jpg\n",
            "['vault', 'palace', 'triumphal_arch', 'church', 'library']\n",
            "[0.0554148  0.01167084 0.00726944 ... 0.00175359 0.00331976 0.00079223]\n",
            "all_souls_5.jpg\n",
            "['bell_cote', 'palace', 'church', 'monastery', 'analog_clock']\n",
            "[0.0346896  0.01525127 0.0578188  ... 0.00015541 0.00039848 0.007016  ]\n",
            "cornmarket_5.jpg\n",
            "['bookshop', 'tile_roof', 'horse_cart', 'gondola', 'window_shade']\n",
            "[0.00443799 0.01054717 0.01830233 ... 0.01065264 0.03735036 0.01563579]\n",
            "keble_4.jpg\n",
            "['church', 'palace', 'bell_cote', 'monastery', 'castle']\n",
            "[0.03417931 0.0330429  0.03407344 ... 0.00018538 0.00154743 0.00599896]\n",
            "hertford_1.jpg\n",
            "['palace', 'triumphal_arch', 'vault', 'library', 'cinema']\n",
            "[0.05639724 0.01033988 0.00756192 ... 0.0012252  0.00225763 0.00102827]\n",
            "christ_church_5.jpg\n",
            "['church', 'monastery', 'bell_cote', 'dome', 'altar']\n",
            "[0.05448572 0.04710132 0.02578327 ... 0.00285532 0.         0.00613487]\n",
            "christ_church_3.jpg\n",
            "['monastery', 'bell_cote', 'palace', 'church', 'triumphal_arch']\n",
            "[0.04910756 0.04326279 0.0400813  ... 0.00027345 0.014142   0.00351279]\n",
            "all_souls_2.jpg\n",
            "['bell_cote', 'palace', 'monastery', 'church', 'triumphal_arch']\n",
            "[4.2620480e-02 3.0808890e-02 6.8437472e-02 ... 1.2564899e-03 6.5725988e-05\n",
            " 3.7665791e-03]\n",
            "cornmarket_4.jpg\n",
            "['bookshop', 'palace', 'castle', 'window_shade', 'library']\n",
            "[0.013276   0.02111176 0.00718597 ... 0.00401752 0.0482586  0.01917097]\n",
            "magdalen_4.jpg\n",
            "['monastery', 'palace', 'castle', 'bell_cote', 'church']\n",
            "[0.07040858 0.02888451 0.00903721 ... 0.00044666 0.00292342 0.00433062]\n",
            "pitt_rivers_5.jpg\n",
            "['monastery', 'church', 'palace', 'bell_cote', 'vault']\n",
            "[0.05792839 0.03316366 0.06154315 ... 0.00407405 0.00549682 0.01020683]\n",
            "christ_church_1.jpg\n",
            "['monastery', 'church', 'bell_cote', 'palace', 'vault']\n",
            "[0.07068466 0.02546281 0.03965121 ... 0.00063278 0.00208924 0.00705118]\n",
            "keble_2.jpg\n",
            "['church', 'palace', 'bell_cote', 'vault', 'monastery']\n",
            "[0.02857813 0.05463499 0.04543701 ... 0.0001312  0.00952523 0.00509155]\n",
            "ashmolean_2.jpg\n",
            "['triumphal_arch', 'palace', 'library', 'bell_cote', 'pedestal']\n",
            "[0.03249604 0.01704096 0.01222007 ... 0.00356722 0.01039129 0.00682547]\n",
            "magdalen_3.jpg\n",
            "['bell_cote', 'church', 'palace', 'monastery', 'castle']\n",
            "[0.07703194 0.03206394 0.04419637 ... 0.00154546 0.00121608 0.00801374]\n",
            "radcliffe_camera_2.jpg\n",
            "['dome', 'palace', 'church', 'monastery', 'bell_cote']\n",
            "[0.01000818 0.0297512  0.00968528 ... 0.0012466  0.00587735 0.0008335 ]\n",
            "pitt_rivers_4.jpg\n",
            "['palace', 'church', 'monastery', 'bell_cote', 'castle']\n",
            "[0.05323028 0.05328767 0.05827506 ... 0.00128963 0.00214153 0.01179739]\n",
            "magdalen_2.jpg\n",
            "['monastery', 'palace', 'bell_cote', 'castle', 'church']\n",
            "[0.10333057 0.01459069 0.02119889 ... 0.0002202  0.0004298  0.00870799]\n",
            "hertford_4.jpg\n",
            "['gondola', 'palace', 'castle', 'vault', 'triumphal_arch']\n",
            "[0.04061566 0.01607282 0.01479652 ... 0.00141547 0.0046314  0.00157207]\n",
            "ashmolean_1.jpg\n",
            "['pedestal', 'bell_cote', 'triumphal_arch', 'palace', 'obelisk']\n",
            "[0.02802352 0.03228059 0.03327611 ... 0.01118716 0.02184175 0.00424911]\n",
            "hertford_2.jpg\n",
            "['gondola', 'palace', 'prison', 'castle', 'monastery']\n",
            "[0.05381024 0.00904426 0.00548924 ... 0.00028024 0.0214884  0.00528519]\n",
            "pitt_rivers_1.jpg\n",
            "['church', 'bell_cote', 'palace', 'castle', 'monastery']\n",
            "[0.03674433 0.03935039 0.07714875 ... 0.00174659 0.00275944 0.01335458]\n",
            "keble_1.jpg\n",
            "['church', 'palace', 'castle', 'bell_cote', 'monastery']\n",
            "[0.03920789 0.04012671 0.03712623 ... 0.00029432 0.0035072  0.00560222]\n",
            "bodleian_3.jpg\n",
            "['window_screen', 'palace', 'church', 'vault', 'dome']\n",
            "[0.05274354 0.00443021 0.01942949 ... 0.0154197  0.02282617 0.00092887]\n",
            "bodleian_1.jpg\n",
            "['window_screen', 'palace', 'vault', 'church', 'dome']\n",
            "[0.04013539 0.00956464 0.0135354  ... 0.00837503 0.02221856 0.00377216]\n",
            "all_souls_1.jpg\n",
            "['monastery', 'church', 'bell_cote', 'castle', 'palace']\n",
            "[0.05994701 0.01801292 0.03104009 ... 0.00144699 0.00493467 0.00486184]\n",
            "balliol_1.jpg\n",
            "['palace', 'cab', 'castle', 'monastery', 'church']\n",
            "[0.03244773 0.0107916  0.01896192 ... 0.00218867 0.00592766 0.00208395]\n",
            "radcliffe_camera_5.jpg\n",
            "['dome', 'palace', 'greenhouse', 'pedestal', 'library']\n",
            "[0.00390925 0.02747345 0.01372592 ... 0.00376085 0.00702736 0.00263923]\n",
            "all_souls_4.jpg\n",
            "['palace', 'castle', 'monastery', 'triumphal_arch', 'bell_cote']\n",
            "[0.02917894 0.00367239 0.01122867 ... 0.00046326 0.00471601 0.00135494]\n",
            "magdalen_5.jpg\n",
            "['bell_cote', 'monastery', 'church', 'palace', 'vault']\n",
            "[0.07134296 0.02427125 0.04500583 ... 0.         0.00060257 0.00023307]\n",
            "christ_church_4.jpg\n",
            "['bell_cote', 'palace', 'monastery', 'triumphal_arch', 'vault']\n",
            "[0.07264256 0.01063879 0.04335655 ... 0.00017579 0.00428545 0.00500554]\n",
            "radcliffe_camera_1.jpg\n",
            "['dome', 'palace', 'bell_cote', 'church', 'pedestal']\n",
            "[0.00254603 0.03206961 0.01622765 ... 0.00067508 0.001622   0.        ]\n",
            "balliol_5.jpg\n",
            "['palace', 'monastery', 'castle', 'triumphal_arch', 'bell_cote']\n",
            "[0.06281078 0.01899862 0.01749492 ... 0.00046701 0.00618388 0.00216281]\n",
            "ashmolean_3.jpg\n",
            "['pedestal', 'obelisk', 'triumphal_arch', 'palace', 'library']\n",
            "[0.01982022 0.0254649  0.00105223 ... 0.01328101 0.00914848 0.04486935]\n",
            "cornmarket_2.jpg\n",
            "['tile_roof', 'palace', 'boathouse', 'library', 'church']\n",
            "[0.00683236 0.03460937 0.04476456 ... 0.00538294 0.0247961  0.00368436]\n",
            "pitt_rivers_2.jpg\n",
            "['bell_cote', 'church', 'monastery', 'palace', 'vault']\n",
            "[4.79269661e-02 4.16478291e-02 8.30452889e-02 ... 2.71198340e-03\n",
            " 2.17355364e-06 1.31775085e-02]\n",
            "radcliffe_camera_3.jpg\n",
            "['dome', 'palace', 'greenhouse', 'pedestal', 'vault']\n",
            "[0.00472943 0.04326799 0.01814068 ... 0.00292715 0.00726919 0.00208821]\n",
            "cornmarket_1.jpg\n",
            "['palace', 'bookshop', 'tile_roof', 'castle', 'library']\n",
            "[0.00880164 0.01959377 0.02052378 ... 0.00878087 0.03288703 0.01011424]\n",
            "cornmarket_3.jpg\n",
            "['castle', 'tile_roof', 'palace', 'bookshop', 'church']\n",
            "[0.01628944 0.03392925 0.0218497  ... 0.00467412 0.0431306  0.02080656]\n",
            "balliol_2.jpg\n",
            "['palace', 'castle', 'monastery', 'bell_cote', 'church']\n",
            "[0.05651806 0.04262742 0.01072394 ... 0.00091777 0.01364626 0.00170566]\n",
            "bodleian_4.jpg\n",
            "['mosque', 'palace', 'vault', 'church', 'window_screen']\n",
            "[0.04704721 0.02099612 0.02776321 ... 0.01588373 0.03374594 0.00372666]\n",
            "christ_church_2.jpg\n",
            "['monastery', 'bell_cote', 'church', 'palace', 'dome']\n",
            "[0.06164621 0.02981337 0.0248489  ... 0.00015317 0.00934522 0.00342652]\n",
            "keble_3.jpg\n",
            "['church', 'palace', 'vault', 'dome', 'castle']\n",
            "[0.02862599 0.03253236 0.03116788 ... 0.00157378 0.00485024 0.00374223]\n"
          ],
          "name": "stdout"
        }
      ]
    },
    {
      "cell_type": "markdown",
      "metadata": {
        "id": "wqV22M4ByyGM"
      },
      "source": [
        "## Calculate mAP\r\n",
        "Browse through all result in rank list to calculate mAP"
      ]
    },
    {
      "cell_type": "code",
      "metadata": {
        "id": "-YkU-kTYzhp3"
      },
      "source": [
        "def prepareValidationMaterial(grouthtruthUrl, rankListUrl, query):\r\n",
        "  ranked_list = load_list(rankListUrl)\r\n",
        "  pos_set = list(set(load_list(grouthtruthUrl + \"/%s_good.txt\" % query) + load_list(grouthtruthUrl + \"/%s_ok.txt\" % query)))\r\n",
        "  junk_set = load_list(grouthtruthUrl + \"/%s_junk.txt\" % query)\r\n",
        "\r\n",
        "  return ranked_list, pos_set, junk_set"
      ],
      "execution_count": 64,
      "outputs": []
    },
    {
      "cell_type": "code",
      "metadata": {
        "id": "At-Bk8KWzkdC"
      },
      "source": [
        "def compute_ap(pos: List[str], amb: List[str], ranked_list: List[str]):\r\n",
        "    \"\"\"Compute average precision against a retrieved list of images. There are some bits that\r\n",
        "    could be improved in this, but is a line-to-line port of the original C++ benchmark code.\r\n",
        "    Args:\r\n",
        "        pos (List[str]): List of positive samples. This is normally a conjugation of\r\n",
        "        the good and ok samples in the ground truth data.\r\n",
        "        amb (List[str]): List of junk samples. This is normally the junk samples in\r\n",
        "        the ground truth data. Omitting this makes no difference in the AP.\r\n",
        "        ranked_list (List[str]): List of retrieved images from query to be evaluated.\r\n",
        "    Returns:\r\n",
        "        float: Average precision against ground truth - range from 0.0 (worst) to 1.0 (best).\r\n",
        "    \"\"\"\r\n",
        "\r\n",
        "    intersect_size, old_recall, ap = 0.0, 0.0, 0.0\r\n",
        "    old_precision, j = 1.0, 1.0\r\n",
        "\r\n",
        "    for e in ranked_list:\r\n",
        "        if e in amb:\r\n",
        "            continue\r\n",
        "\r\n",
        "        if e in pos:\r\n",
        "            intersect_size += 1.0\r\n",
        "\r\n",
        "        recall = intersect_size / len(pos)\r\n",
        "        precision = intersect_size / j\r\n",
        "        ap += (recall - old_recall) * ((old_precision + precision) / 2.0)\r\n",
        "\r\n",
        "        old_recall = recall\r\n",
        "        old_precision = precision\r\n",
        "        j += 1.0\r\n",
        "\r\n",
        "    return ap"
      ],
      "execution_count": 65,
      "outputs": []
    },
    {
      "cell_type": "code",
      "metadata": {
        "id": "kiPIiu1Izm9V"
      },
      "source": [
        "def compute_ap_at_k(pos: List[str], amb: List[str], ranked_list: List[str], k):\r\n",
        "    \"\"\"Compute average precision against a retrieved list of images. There are some bits that\r\n",
        "    could be improved in this, but is a line-to-line port of the original C++ benchmark code.\r\n",
        "    Args:\r\n",
        "        pos (List[str]): List of positive samples. This is normally a conjugation of\r\n",
        "        the good and ok samples in the ground truth data.\r\n",
        "        amb (List[str]): List of junk samples. This is normally the junk samples in\r\n",
        "        the ground truth data. Omitting this makes no difference in the AP.\r\n",
        "        ranked_list (List[str]): List of retrieved images from query to be evaluated.\r\n",
        "    Returns:\r\n",
        "        float: Average precision against ground truth - range from 0.0 (worst) to 1.0 (best).\r\n",
        "    \"\"\"\r\n",
        "\r\n",
        "    intersect_size, old_recall, ap = 0.0, 0.0, 0.0\r\n",
        "    old_precision, j = 1.0, 1.0\r\n",
        "\r\n",
        "    for e in ranked_list:\r\n",
        "      if j <= k:\r\n",
        "        if e in amb:\r\n",
        "            continue\r\n",
        "\r\n",
        "        if e in pos:\r\n",
        "            intersect_size += 1.0\r\n",
        "\r\n",
        "        recall = intersect_size / len(pos)\r\n",
        "        precision = intersect_size / j\r\n",
        "        ap += (recall - old_recall) * ((old_precision + precision) / 2.0)\r\n",
        "\r\n",
        "        old_recall = recall\r\n",
        "        old_precision = precision\r\n",
        "        j += 1.0\r\n",
        "\r\n",
        "    return ap"
      ],
      "execution_count": 66,
      "outputs": []
    },
    {
      "cell_type": "code",
      "metadata": {
        "id": "i_VBeNyANPl2"
      },
      "source": [
        "import os\r\n",
        "import numpy as np\r\n",
        "\r\n",
        "def cal_mAP():\r\n",
        "  aps = []\r\n",
        "\r\n",
        "  for query_img_path in os.listdir(evalRankList):\r\n",
        "    if query_img_path != \".ipynb_checkpoints\":\r\n",
        "      #print(query_img_path)\r\n",
        "      name = os.path.splitext(query_img_path)[0];\r\n",
        "      resultRankFileDir = evalRankList + \"/\" + name + \".txt\"\r\n",
        "      ranked_list, pos_set, junk_set = prepareValidationMaterial(evalGroundTruth, resultRankFileDir, name)\r\n",
        "\r\n",
        "      a = compute_ap(ranked_list, junk_set, pos_set)\r\n",
        "      aps.append(a);\r\n",
        "      #print(name)\r\n",
        "      #print(a);\r\n",
        "\r\n",
        "  return np.mean(aps)"
      ],
      "execution_count": 79,
      "outputs": []
    },
    {
      "cell_type": "code",
      "metadata": {
        "id": "6R-55oVazo0X"
      },
      "source": [
        "import os\r\n",
        "import numpy as np\r\n",
        "\r\n",
        "def cal_mAP_at_k(k):\r\n",
        "  aps = []\r\n",
        "\r\n",
        "  for query_img_path in os.listdir(evalRankList):\r\n",
        "    if query_img_path != \".ipynb_checkpoints\":\r\n",
        "      #print(query_img_path)\r\n",
        "      name = os.path.splitext(query_img_path)[0];\r\n",
        "      resultRankFileDir = evalRankList + \"/\" + name + \".txt\"\r\n",
        "      ranked_list, pos_set, junk_set = prepareValidationMaterial(evalGroundTruth, resultRankFileDir, name)\r\n",
        "\r\n",
        "      a = compute_ap_at_k(ranked_list, junk_set, pos_set, k)\r\n",
        "      aps.append(a);\r\n",
        "      #print(name)\r\n",
        "      #print(a);\r\n",
        "\r\n",
        "  return np.mean(aps)"
      ],
      "execution_count": 80,
      "outputs": []
    },
    {
      "cell_type": "code",
      "metadata": {
        "colab": {
          "base_uri": "https://localhost:8080/"
        },
        "id": "pNCoOqYHzqx3",
        "outputId": "6c4c027e-14e4-44a7-ac8f-9e647ca9d817"
      },
      "source": [
        "mAP1 = cal_mAP_at_k(1)\r\n",
        "mAP4 = cal_mAP_at_k(4)\r\n",
        "mAP10 = cal_mAP_at_k(10)\r\n",
        "mAP100 = cal_mAP_at_k(100)\r\n",
        "mAP = cal_mAP()\r\n",
        "\r\n",
        "print(\"mAP@1: \\t\\t %s\" % mAP1)\r\n",
        "print(\"mAP@4: \\t\\t %s\" % mAP4)\r\n",
        "print(\"mAP@10: \\t %s\" % mAP10)\r\n",
        "print(\"mAP@100: \\t %s\" % mAP100)\r\n",
        "print(\"mAP: \\t\\t %s\" % mAP)"
      ],
      "execution_count": 85,
      "outputs": [
        {
          "output_type": "stream",
          "text": [
            "mAP@1: \t\t 0.0003649085211765999\n",
            "mAP@4: \t\t 0.0014558023458471584\n",
            "mAP@10: \t 0.003504431619723861\n",
            "mAP@100: \t 0.015952104736482512\n",
            "mAP: \t\t 0.02045981028407575\n"
          ],
          "name": "stdout"
        }
      ]
    }
  ]
}